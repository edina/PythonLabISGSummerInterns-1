{
 "cells": [
  {
   "cell_type": "markdown",
   "metadata": {},
   "source": [
    "![image](https://github.com/jstix/everything-noteable/blob/master/Banner%20image/Screenshot%202021-03-05%20115453.png?raw=true)  "
   ]
  },
  {
   "cell_type": "markdown",
   "metadata": {},
   "source": [
    "# ISG Student Intern Python Programming Lab \n",
    "# Chapter 5: Printing messages and example of using an algorithmic recipe to show a  widget "
   ]
  },
  {
   "cell_type": "markdown",
   "metadata": {},
   "source": [
    " # Recap"
   ]
  },
  {
   "cell_type": "markdown",
   "metadata": {},
   "source": [
    "\n",
    "In Chapter 4, we looked at:\n",
    "    \n",
    "* <b>Sequence</b> - code is run in sequence, one line at a time, until the end of the program\n",
    "* <b>Selection</b> - If statements are used to select and run only the required lines of code\n",
    "* <b>Iteration</b> - loops can be used to iterate lines of code into segments\n",
    "* Describing how code is run in sequence\n",
    "* Giving an example of using an <b>IF</b> statement to select part of a program\n",
    "* Describing how loops can be used to iterate a line of code\n",
    "* Changing a value in code and running the code to see the impact\n",
    "</div>"
   ]
  },
  {
   "cell_type": "markdown",
   "metadata": {},
   "source": [
    "# Learning Objectives"
   ]
  },
  {
   "cell_type": "markdown",
   "metadata": {},
   "source": [
    "\n",
    "By the end of Chapter 5, you will be able to use the Print function to:  \n",
    "    \n",
    "* Display a single line message on the screen  \n",
    "    \n",
    "* Display a multiple line message on the screen\n",
    "\n",
    "You will also learn about the ipywidgets package, and will be able to: \n",
    "\n",
    "* Generate different widgets including the example of a slider and that you will start using in the next notebook to analyse your own data and build your own algorithmic recipe. \n",
    "\n",
    "</div>"
   ]
  },
  {
   "cell_type": "markdown",
   "metadata": {},
   "source": [
    "# Introduction to the print function in Python"
   ]
  },
  {
   "cell_type": "markdown",
   "metadata": {},
   "source": [
    "\n",
    "The **Print** function is used to display information on the screen.   \n",
    "    \n",
    "\n",
    "The code shown in the image below will display the words “Hello World” on the screen.    \n",
    "\n",
    "   \n",
    "You can also print messages that span across multiple lines - for example see the image below which displays the words over 3 lines.\n",
    "\n",
    "    \n",
    "</div>"
   ]
  },
  {
   "cell_type": "markdown",
   "metadata": {},
   "source": [
    "# 1. Activity: Print your name"
   ]
  },
  {
   "cell_type": "markdown",
   "metadata": {},
   "source": [
    "<div class = \"alert alert-block alert-warning\">  \n",
    "    \n",
    "# Activity \n",
    "Create a code cell that writes your full name on the screen, similar to the example below.\n",
    "    \n",
    "NOTE: Type your text within double quotation marks. \"\"\n",
    "    \n",
    "## Example\n",
    "    print(\"My full name is John Bob Smith.\")\n",
    "\n",
    "# Steps\n",
    "    \n",
    "1. Select **Insert** and **Insert cell below**.\n",
    "2. Set cell type as **Code**.\n",
    "3. Type:\n",
    "         print(\"My full name is...\")  \n",
    "    \n",
    "4. Select **Run**.\n",
    "    \n",
    "    </div>"
   ]
  },
  {
   "cell_type": "code",
   "execution_count": 1,
   "metadata": {},
   "outputs": [
    {
     "name": "stdout",
     "output_type": "stream",
     "text": [
      "My full name is Bart Simpson.\n"
     ]
    }
   ],
   "source": [
    "# Example for your use - you will notice that hashtags, also called octothorpes, to mark comments in code cells. \n",
    "# This can be a handy way to explain what you are doing to others and to leave notes. \n",
    "\n",
    "print(\"My full name is Bart Simpson.\")"
   ]
  },
  {
   "cell_type": "markdown",
   "metadata": {},
   "source": [
    "# 2. Print multiple lines"
   ]
  },
  {
   "cell_type": "markdown",
   "metadata": {},
   "source": [
    "    \n",
    "# Activity \n",
    "    \n",
    "Write a code cell that displays a quick joke over 2 lines, similar to that shown in the image below.\n",
    "    \n",
    "NOTE: Type your joke within **3 single quotation marks.** Select enter where you want the new line.\n",
    "\n",
    "# Steps\n",
    "    \n",
    "1. Select **Insert** and **Insert cell below**.\n",
    "2. Set cell type as **Code**.\n",
    "3. Type: \n",
    "        print('''Why did the chicken cross the road? \n",
    "        To get to the other side!''')  \n",
    "    \n",
    "    \n",
    "4. Select **Run**.\n",
    "    \n",
    "    </div>"
   ]
  },
  {
   "cell_type": "code",
   "execution_count": 2,
   "metadata": {},
   "outputs": [
    {
     "name": "stdout",
     "output_type": "stream",
     "text": [
      "Why did the chicken cross the road? \n",
      "To get to the other side!\n"
     ]
    }
   ],
   "source": [
    "# Example for your use\n",
    "\n",
    "print('''Why did the chicken cross the road? \n",
    "To get to the other side!''')  \n",
    "    "
   ]
  },
  {
   "cell_type": "code",
   "execution_count": 3,
   "metadata": {},
   "outputs": [
    {
     "name": "stdout",
     "output_type": "stream",
     "text": [
      "KEEP  \n",
      "CALM  \n",
      "and  \n",
      "CODE  \n",
      "PYTHON\n"
     ]
    }
   ],
   "source": [
    "# Example for your use\n",
    "\n",
    "print('''KEEP  \n",
    "CALM  \n",
    "and  \n",
    "CODE  \n",
    "PYTHON''') "
   ]
  },
  {
   "cell_type": "markdown",
   "metadata": {},
   "source": [
    "# Calling all ISG student interns! \n",
    "## Put widgets to use by creating a slider with your own parameters using the pre-installed ipywidgets package"
   ]
  },
  {
   "cell_type": "markdown",
   "metadata": {},
   "source": [
    "## What are widgets in Python and Jupyter notebooks?"
   ]
  },
  {
   "cell_type": "markdown",
   "metadata": {},
   "source": [
    "Widgets are eventful python objects that have a representation in the browser, often as a control like a slider, textbox, etc. \n",
    "In this notebook, we will develop a starting introduction to how you can make use of pre-installed extensions that you can't see when working on the Jupyter file, but can be 'summoned' from the fancy infrastructure behind Noteable. \n",
    "\n",
    "We can do lots of useful things with widgets, for example we can create a perfectly fake oscilloscope. \n",
    "\n",
    "For this, we use the pre-configured matplotlib package that comes with this notebook server (more on that in the next chapter, but you may recall choosing a notebook server to first access Noteable) to create a plot with a fixed vertical scale and a grid. Next, we generate some x values between 0 and 2pi and define a function to return the sine of x for some frequency w, amplitude amp and phase angle phi. Fancy mathematics aside, this generates a plot visualisation of a simple wave. \n",
    "\n",
    "<b>As a recap from mathematics class, a sine wave is a geometric waveform that oscillates (moves up, down, or side-to-side) periodically, and is defined by the function y = sin x. In other words, it is an s-shaped, smooth wave that oscillates above and below zero.</b>\n",
    "\n",
    "Finally, we define an update function that takes three arguments:  w, amp and phi, corresponding with the parameters controlling our sine. This function clears all existing lines from the ax object (if any) and then plots a sine wave. Adding the interact decorator completes a beautiful interactive plot.\n",
    "\n"
   ]
  },
  {
   "cell_type": "code",
   "execution_count": 5,
   "metadata": {},
   "outputs": [
    {
     "data": {
      "application/vnd.jupyter.widget-view+json": {
       "model_id": "332d53578ea44c5b868c95ff13a1527d",
       "version_major": 2,
       "version_minor": 0
      },
      "text/plain": [
       "interactive(children=(IntSlider(value=50, description='x'), Output()), _dom_classes=('widget-interact',))"
      ]
     },
     "metadata": {},
     "output_type": "display_data"
    },
    {
     "data": {
      "application/vnd.jupyter.widget-view+json": {
       "model_id": "a4ee78e157994b218f0c8421210c0f1e",
       "version_major": 2,
       "version_minor": 0
      },
      "text/plain": [
       "interactive(children=(IntSlider(value=5, description='y', max=10), Output()), _dom_classes=('widget-interact',…"
      ]
     },
     "metadata": {},
     "output_type": "display_data"
    }
   ],
   "source": [
    "# In this code cell, we are generating a slider widget\n",
    "\n",
    "# import from the preinstalled package, ipywidgets, the ipywidgets.interact class, this class will represent a slide bar.\n",
    "from ipywidgets import interact\n",
    "\n",
    "# use interact decorator to decorate the function, so the function can receive the slide bar's value with a parameter x.\n",
    "@interact(x=(0, 100))\n",
    "def double_number(x):\n",
    "    print(\"The double of %d is %d.\" % (x, x*2))\n",
    "    \n",
    "# add another slide bar to this function with the interact decorator.    \n",
    "@interact(y=(0, 10))\n",
    "def square_number(y):\n",
    "    print(\"The square of %d is %d.\" % (y, y**2))"
   ]
  },
  {
   "cell_type": "markdown",
   "metadata": {},
   "source": [
    "## What's next in the Python Programming Lab? \n",
    "\n",
    "Congratulations on completing chapter 5 of the Python Programming Lab in Jupyter. To do a quick recap, so far you have learned about: \n",
    "* How to access preconfigured programming environments for coding with Jupyter notebooks in Noteable. \n",
    "* Worked with Markdown cells to establish different formatting options and becoming familiarised with how to edit these types of cells. \n",
    "* Gaining an understanding of how computers work and algorithms as recipes. Remember, computers follow conveyor-belt type thinking, they input what they get fed in from the human hands. \n",
    "* Creating lists using Python. \n",
    "* Accessing libraries with Noteable and generating widgets. \n",
    "\n",
    "Next, in Chapter 6 of the Python Programming Lab you are going to: \n",
    "\n",
    "* Explore of the mathematical properties of Python and become increasingly familiar with carrying out operations with Python in a Jupyter notebook. \n",
    "* Use the **input** function to get information  - a **variable** - from the user\n",
    "* Learn the symbols for maths operations in Python  \n",
    "* Use the **int** function to convert input to an integer  \n",
    "* Use the **float** function to convert input to a real number with a decimal point  \n",
    "* Write code to define variables and perform calculations e.g. add together three variables  \n",
    "* Use the **print** function to display results\n",
    "\n"
   ]
  },
  {
   "cell_type": "markdown",
   "metadata": {},
   "source": [
    "[![CC BY 4.0][cc-by-shield]][cc-by] \n",
    "\n",
    "This work is licensed under a \n",
    "\n",
    "[Creative Commons Attribution 4.0 International License][cc-by]. \n",
    "\n",
    "[![CC BY 4.0][cc-by-image]][cc-by] \n",
    "\n",
    "To view a copy of this license, visit http://creativecommons.org/licenses/by/4.0/ or send a letter to Creative Commons, PO Box 1866, Mountain View, CA 94042, USA. \n",
    "\n",
    "[cc-by]: http://creativecommons.org/licenses/by/4.0/ \n",
    "\n",
    "[cc-by-image]: https://i.creativecommons.org/l/by/4.0/88x31.png \n",
    "\n",
    "[cc-by-shield]: https://img.shields.io/badge/License-CC%20BY%204.0-lightgrey.svg "
   ]
  },
  {
   "cell_type": "code",
   "execution_count": null,
   "metadata": {},
   "outputs": [],
   "source": []
  }
 ],
 "metadata": {
  "kernelspec": {
   "display_name": "Python 3 (ipykernel)",
   "language": "python",
   "name": "python3"
  },
  "language_info": {
   "codemirror_mode": {
    "name": "ipython",
    "version": 3
   },
   "file_extension": ".py",
   "mimetype": "text/x-python",
   "name": "python",
   "nbconvert_exporter": "python",
   "pygments_lexer": "ipython3",
   "version": "3.9.2"
  }
 },
 "nbformat": 4,
 "nbformat_minor": 2
}
