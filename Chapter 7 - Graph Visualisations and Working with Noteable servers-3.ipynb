{
 "cells": [
  {
   "cell_type": "markdown",
   "metadata": {},
   "source": [
    "![image](https://github.com/jstix/everything-noteable/blob/master/Banner%20image/Screenshot%202021-03-05%20115453.png?raw=true)"
   ]
  },
  {
   "cell_type": "markdown",
   "metadata": {
    "slideshow": {
     "slide_type": "slide"
    }
   },
   "source": [
    "# Chapter 7: Graph Visualisations with Noteable using the Geosciences server"
   ]
  },
  {
   "cell_type": "markdown",
   "metadata": {},
   "source": [
    "# Recap"
   ]
  },
  {
   "cell_type": "markdown",
   "metadata": {},
   "source": [
    "In the last chapter you looked at \n",
    "* Using Python's mathematical properties\n",
    "* Use the **input** function to get information  - a **variable** - from the user\n",
    "* Learned the symbols for maths operations in Python  \n",
    "* Used the **int** function to convert input into an integer  \n",
    "* Used the **float** function to convert input to a real number with a decimal point  \n",
    "* Wrote code to define variables and perform calculations e.g. add together three variables  \n",
    "* Use the **print** function to display results\n",
    "\n",
    "   "
   ]
  },
  {
   "cell_type": "markdown",
   "metadata": {},
   "source": [
    "# Learning Objectives"
   ]
  },
  {
   "cell_type": "markdown",
   "metadata": {},
   "source": [
    "Welcome to Chapter 7 of the Python programming labs, in this chapter you will  choose the <b>Geosciences</b> notebook from the drop-down menu when first accessing Noteable's coding environments. \n",
    "\n",
    "* If you selected the Standard environment when first accessing Noteable, click save on the top left icon or under File, then click on the Jupyter icon above the save button which will take you back to the main access dashboard, then click on the Jupyter icon on the top right which will return you to the notebook server selection webpage. From here, click on the drop-down list and select the Geoscience notebook server. \n",
    "\n",
    " By the end of this chapter you will:  \n",
    " \n",
    "* Understand If and Else statements as pathways for an algorithm to follow. \n",
    "    \n",
    "* Build on the data wrangling strengths of the Python ecosystem and the mapping strengths of the Leaflet.js library\n",
    "\n",
    "* Manipulate your data in Python, then visualize it in a Leaflet map via the folium library in the Geosciences notebook server. \n"
   ]
  },
  {
   "cell_type": "markdown",
   "metadata": {},
   "source": [
    "# If/Else Statements"
   ]
  },
  {
   "cell_type": "markdown",
   "metadata": {},
   "source": [
    "<div class = \"alert alert-block alert-success\">\n",
    "    \n",
    "In addition to using If statements to do something when a condition is met (True), we can also use If statements to do something when a condition is not met (False). This logic essentially says, “if something is true, then do this; or else, do that.” \n",
    "For example, we might ask, “Are you older than 20?” If the answer is yes, respond with, “You are too old!” If the answer is no, respond with, “You are awesome!” We simply use the word ‘else’ to tell the computer what else it has to do if the original condition is not met.\n",
    "\n",
    "    \n",
    "## For example:\n",
    "\n",
    "    if age > 20:  \n",
    "        print('You are too old!')  \n",
    "    else:     \n",
    "        print('You are awesome!)  \n",
    "    \n",
    "You can insert your own code cell below and experiment with changing the age variable so the code will check to see if the user’s age is greater than another figure to 20. If it is, it will print the message, ‘You are too old!’ If younger than 20 though, it will print the message, ‘You are awesome!’\n",
    "    \n",
    "    "
   ]
  },
  {
   "cell_type": "markdown",
   "metadata": {},
   "source": [
    "# ELIF Statements"
   ]
  },
  {
   "cell_type": "markdown",
   "metadata": {},
   "source": [
    "<div class = \"alert alert-block alert-success\">\n",
    "   \n",
    "   We can extend an if-statement even further with elif (which is short for else-if). It allows us to check multiple conditions.\n",
    "    \n",
    "## Look at this code example:  \n",
    "    if age > 20:  \n",
    "        print('You are too old')  \n",
    "    elif age > 10:\n",
    "        print('You are awesome!)  \n",
    "    else:  \n",
    "        print('You are too young')\n",
    "    \n",
    "The above code will check to see if the user’s age is greater than 20. If it is, it will print the message, ‘You are too old!’ If it’s less than 20 but still greater than 10, it will print the message, ‘You are awesome!’ If the age is any thing else (less than 10), it will print the message ‘You are too young.’\n",
    "    \n",
    "# Try out your own elif statements inspired by this code in a new code cell below.\n",
    "## You might want to try different parameters such as time, distance, and other types of scenarios you can come up with! \n",
    "    \n",
    "</div>"
   ]
  },
  {
   "cell_type": "markdown",
   "metadata": {},
   "source": [
    "# A note on Indentation"
   ]
  },
  {
   "cell_type": "markdown",
   "metadata": {},
   "source": [
    "  \n",
    "You might have noticed that in the examples above, certain sections of code have been indented – that’s the empty white space at the start of a line of code. \n",
    "\n",
    "<b>In Python, whitespace (such as these indents) is meaningful. Indented code is known as a block of code. Indented code will always be connected to a statement above it.</b>\n",
    "    \n",
    "In the examples above, the indented code will only be run if the statement directly above it is true. If the condition is true, then it will run the next line of indented code below it. If the statement is false, then the compiler will ignore and skip straight past that indented code directly below it. \n",
    "\n",
    "    \n",
    "</div>"
   ]
  },
  {
   "cell_type": "markdown",
   "metadata": {},
   "source": [
    "# Activity"
   ]
  },
  {
   "cell_type": "markdown",
   "metadata": {},
   "source": [
    "    \n",
    "1. Have a look at the lines of code below and then click on **Insert** and **Insert cell below**.\n",
    "2. Set cell type as **Code**.\n",
    "3. Type:  \n",
    "        aus_capital = input('What is the capital of Australia? ')\n",
    "        if aus_capital == 'Canberra':  \n",
    "            print('You are correct!')  \n",
    "        else:     \n",
    "            print('Sorry, try again!')\n",
    "    \n",
    "   \n",
    "4. Select **Run**.\n",
    "    \n",
    "    </div>"
   ]
  },
  {
   "cell_type": "code",
   "execution_count": 1,
   "metadata": {},
   "outputs": [],
   "source": [
    "# Example space for you to use of the elif function, \n",
    "# Here you determine if an answer is correct, or if another input is given, else, you are asked to try again.\n",
    "\n"
   ]
  },
  {
   "cell_type": "code",
   "execution_count": 2,
   "metadata": {},
   "outputs": [
    {
     "data": {
      "text/html": [
       "\n",
       "        <iframe\n",
       "            width=\"640\"\n",
       "            height=\"480\"\n",
       "            src=\"https://www.google.com/maps/d/embed?mid=13OBSOsEBNpJ1nlsWwMl990Mx-D0&hl=en_US&ehbc=2E312F\"\n",
       "            frameborder=\"0\"\n",
       "            allowfullscreen\n",
       "        ></iframe>\n",
       "        "
      ],
      "text/plain": [
       "<IPython.lib.display.IFrame at 0x7f927832fd90>"
      ]
     },
     "execution_count": 2,
     "metadata": {},
     "output_type": "execute_result"
    }
   ],
   "source": [
    "# Here is an example for you to use of adding a graph visualisation of accessing the free 2022 Fringe event venues\n",
    "# Have a look and compare with peers what events you might want to go to, what are your favourite venues? \n",
    "\n",
    "from IPython.display import IFrame\n",
    "IFrame(\"https://www.google.com/maps/d/embed?mid=13OBSOsEBNpJ1nlsWwMl990Mx-D0&hl=en_US&ehbc=2E312F\", width=\"640\", height=\"480\")"
   ]
  },
  {
   "cell_type": "markdown",
   "metadata": {},
   "source": [
    "## Next, have a look at using the Folium library for Python that is included in the Geosciences notebook server "
   ]
  },
  {
   "cell_type": "code",
   "execution_count": 3,
   "metadata": {},
   "outputs": [
    {
     "data": {
      "text/html": [
       "<div style=\"width:100%;\"><div style=\"position:relative;width:100%;height:0;padding-bottom:60%;\"><span style=\"color:#565656\">Make this Notebook Trusted to load map: File -> Trust Notebook</span><iframe src=\"about:blank\" style=\"position:absolute;width:100%;height:100%;left:0;top:0;border:none !important;\" data-html=%3C%21DOCTYPE%20html%3E%0A%3Chead%3E%20%20%20%20%0A%20%20%20%20%3Cmeta%20http-equiv%3D%22content-type%22%20content%3D%22text/html%3B%20charset%3DUTF-8%22%20/%3E%0A%20%20%20%20%0A%20%20%20%20%20%20%20%20%3Cscript%3E%0A%20%20%20%20%20%20%20%20%20%20%20%20L_NO_TOUCH%20%3D%20false%3B%0A%20%20%20%20%20%20%20%20%20%20%20%20L_DISABLE_3D%20%3D%20false%3B%0A%20%20%20%20%20%20%20%20%3C/script%3E%0A%20%20%20%20%0A%20%20%20%20%3Cstyle%3Ehtml%2C%20body%20%7Bwidth%3A%20100%25%3Bheight%3A%20100%25%3Bmargin%3A%200%3Bpadding%3A%200%3B%7D%3C/style%3E%0A%20%20%20%20%3Cstyle%3E%23map%20%7Bposition%3Aabsolute%3Btop%3A0%3Bbottom%3A0%3Bright%3A0%3Bleft%3A0%3B%7D%3C/style%3E%0A%20%20%20%20%3Cscript%20src%3D%22https%3A//cdn.jsdelivr.net/npm/leaflet%401.6.0/dist/leaflet.js%22%3E%3C/script%3E%0A%20%20%20%20%3Cscript%20src%3D%22https%3A//code.jquery.com/jquery-1.12.4.min.js%22%3E%3C/script%3E%0A%20%20%20%20%3Cscript%20src%3D%22https%3A//maxcdn.bootstrapcdn.com/bootstrap/3.2.0/js/bootstrap.min.js%22%3E%3C/script%3E%0A%20%20%20%20%3Cscript%20src%3D%22https%3A//cdnjs.cloudflare.com/ajax/libs/Leaflet.awesome-markers/2.0.2/leaflet.awesome-markers.js%22%3E%3C/script%3E%0A%20%20%20%20%3Clink%20rel%3D%22stylesheet%22%20href%3D%22https%3A//cdn.jsdelivr.net/npm/leaflet%401.6.0/dist/leaflet.css%22/%3E%0A%20%20%20%20%3Clink%20rel%3D%22stylesheet%22%20href%3D%22https%3A//maxcdn.bootstrapcdn.com/bootstrap/3.2.0/css/bootstrap.min.css%22/%3E%0A%20%20%20%20%3Clink%20rel%3D%22stylesheet%22%20href%3D%22https%3A//maxcdn.bootstrapcdn.com/bootstrap/3.2.0/css/bootstrap-theme.min.css%22/%3E%0A%20%20%20%20%3Clink%20rel%3D%22stylesheet%22%20href%3D%22https%3A//maxcdn.bootstrapcdn.com/font-awesome/4.6.3/css/font-awesome.min.css%22/%3E%0A%20%20%20%20%3Clink%20rel%3D%22stylesheet%22%20href%3D%22https%3A//cdnjs.cloudflare.com/ajax/libs/Leaflet.awesome-markers/2.0.2/leaflet.awesome-markers.css%22/%3E%0A%20%20%20%20%3Clink%20rel%3D%22stylesheet%22%20href%3D%22https%3A//cdn.jsdelivr.net/gh/python-visualization/folium/folium/templates/leaflet.awesome.rotate.min.css%22/%3E%0A%20%20%20%20%0A%20%20%20%20%20%20%20%20%20%20%20%20%3Cmeta%20name%3D%22viewport%22%20content%3D%22width%3Ddevice-width%2C%0A%20%20%20%20%20%20%20%20%20%20%20%20%20%20%20%20initial-scale%3D1.0%2C%20maximum-scale%3D1.0%2C%20user-scalable%3Dno%22%20/%3E%0A%20%20%20%20%20%20%20%20%20%20%20%20%3Cstyle%3E%0A%20%20%20%20%20%20%20%20%20%20%20%20%20%20%20%20%23map_e9f71fda3c994a6a8ac48708ff56c9ac%20%7B%0A%20%20%20%20%20%20%20%20%20%20%20%20%20%20%20%20%20%20%20%20position%3A%20relative%3B%0A%20%20%20%20%20%20%20%20%20%20%20%20%20%20%20%20%20%20%20%20width%3A%20100.0%25%3B%0A%20%20%20%20%20%20%20%20%20%20%20%20%20%20%20%20%20%20%20%20height%3A%20100.0%25%3B%0A%20%20%20%20%20%20%20%20%20%20%20%20%20%20%20%20%20%20%20%20left%3A%200.0%25%3B%0A%20%20%20%20%20%20%20%20%20%20%20%20%20%20%20%20%20%20%20%20top%3A%200.0%25%3B%0A%20%20%20%20%20%20%20%20%20%20%20%20%20%20%20%20%7D%0A%20%20%20%20%20%20%20%20%20%20%20%20%3C/style%3E%0A%20%20%20%20%20%20%20%20%0A%3C/head%3E%0A%3Cbody%3E%20%20%20%20%0A%20%20%20%20%0A%20%20%20%20%20%20%20%20%20%20%20%20%3Cdiv%20class%3D%22folium-map%22%20id%3D%22map_e9f71fda3c994a6a8ac48708ff56c9ac%22%20%3E%3C/div%3E%0A%20%20%20%20%20%20%20%20%0A%3C/body%3E%0A%3Cscript%3E%20%20%20%20%0A%20%20%20%20%0A%20%20%20%20%20%20%20%20%20%20%20%20var%20map_e9f71fda3c994a6a8ac48708ff56c9ac%20%3D%20L.map%28%0A%20%20%20%20%20%20%20%20%20%20%20%20%20%20%20%20%22map_e9f71fda3c994a6a8ac48708ff56c9ac%22%2C%0A%20%20%20%20%20%20%20%20%20%20%20%20%20%20%20%20%7B%0A%20%20%20%20%20%20%20%20%20%20%20%20%20%20%20%20%20%20%20%20center%3A%20%5B43.61092%2C%203.87723%5D%2C%0A%20%20%20%20%20%20%20%20%20%20%20%20%20%20%20%20%20%20%20%20crs%3A%20L.CRS.EPSG3857%2C%0A%20%20%20%20%20%20%20%20%20%20%20%20%20%20%20%20%20%20%20%20zoom%3A%2010%2C%0A%20%20%20%20%20%20%20%20%20%20%20%20%20%20%20%20%20%20%20%20zoomControl%3A%20true%2C%0A%20%20%20%20%20%20%20%20%20%20%20%20%20%20%20%20%20%20%20%20preferCanvas%3A%20false%2C%0A%20%20%20%20%20%20%20%20%20%20%20%20%20%20%20%20%7D%0A%20%20%20%20%20%20%20%20%20%20%20%20%29%3B%0A%0A%20%20%20%20%20%20%20%20%20%20%20%20%0A%0A%20%20%20%20%20%20%20%20%0A%20%20%20%20%0A%20%20%20%20%20%20%20%20%20%20%20%20var%20tile_layer_2a4c0c79b6f74cddbdd776acb38153c4%20%3D%20L.tileLayer%28%0A%20%20%20%20%20%20%20%20%20%20%20%20%20%20%20%20%22https%3A//%7Bs%7D.tile.openstreetmap.org/%7Bz%7D/%7Bx%7D/%7By%7D.png%22%2C%0A%20%20%20%20%20%20%20%20%20%20%20%20%20%20%20%20%7B%22attribution%22%3A%20%22Data%20by%20%5Cu0026copy%3B%20%5Cu003ca%20href%3D%5C%22http%3A//openstreetmap.org%5C%22%5Cu003eOpenStreetMap%5Cu003c/a%5Cu003e%2C%20under%20%5Cu003ca%20href%3D%5C%22http%3A//www.openstreetmap.org/copyright%5C%22%5Cu003eODbL%5Cu003c/a%5Cu003e.%22%2C%20%22detectRetina%22%3A%20false%2C%20%22maxNativeZoom%22%3A%2018%2C%20%22maxZoom%22%3A%2018%2C%20%22minZoom%22%3A%200%2C%20%22noWrap%22%3A%20false%2C%20%22opacity%22%3A%201%2C%20%22subdomains%22%3A%20%22abc%22%2C%20%22tms%22%3A%20false%7D%0A%20%20%20%20%20%20%20%20%20%20%20%20%29.addTo%28map_e9f71fda3c994a6a8ac48708ff56c9ac%29%3B%0A%20%20%20%20%20%20%20%20%0A%3C/script%3E onload=\"this.contentDocument.open();this.contentDocument.write(    decodeURIComponent(this.getAttribute('data-html')));this.contentDocument.close();\" allowfullscreen webkitallowfullscreen mozallowfullscreen></iframe></div></div>"
      ],
      "text/plain": [
       "<folium.folium.Map at 0x7f218c3c0760>"
      ]
     },
     "execution_count": 3,
     "metadata": {},
     "output_type": "execute_result"
    }
   ],
   "source": [
    "# Manipulate your data in Python, then visualize it in a Leaflet map via the folium library in the Geosciences notebook server. \n",
    "\n",
    "# Build the default map for a specific location\n",
    "import folium\n",
    "map = folium.Map(location=[43.61092, 3.87723])\n",
    "map\n",
    "\n",
    "# Change the location paramters using longitude and latitude in the code, where would you like to go? "
   ]
  },
  {
   "cell_type": "markdown",
   "metadata": {},
   "source": []
  },
  {
   "cell_type": "markdown",
   "metadata": {},
   "source": [
    "# Cogratulations ISG interns, you've completed your seventh Python Lab notebook! \n",
    "\n",
    "To recap on what you've learned with this notebook: \n",
    "\n",
    "* Understand If and Else statements as pathways for an algorithm to follow. \n",
    "    \n",
    "* Build on the data wrangling strengths of the Python ecosystem and the mapping strengths of the Leaflet.js library\n",
    "\n",
    "* Manipulate your data in Python, then visualize it in a Leaflet map via folium.\n",
    "\n",
    "For the <b>8th notebook</b>, you will use your acquired knowledge so far and access the R with Stand notebook server, you will focus on an activity using the R language in this familiar Jupyter interface, and gain an understanding of how coding can be multi-layered and the same interface may work differently across available languages. \n",
    "Data scientists, software developers and others working with code will alternate with how they carry out coding, sometimes using one software platform to manage scripts or using various. \n",
    "\n"
   ]
  },
  {
   "cell_type": "markdown",
   "metadata": {},
   "source": [
    "[![CC BY 4.0][cc-by-shield]][cc-by] \n",
    "\n",
    "This work is licensed under a \n",
    "\n",
    "[Creative Commons Attribution 4.0 International License][cc-by]. \n",
    "\n",
    "[![CC BY 4.0][cc-by-image]][cc-by] \n",
    "\n",
    "To view a copy of this license, visit http://creativecommons.org/licenses/by/4.0/ or send a letter to Creative Commons, PO Box 1866, Mountain View, CA 94042, USA. \n",
    "\n",
    "[cc-by]: http://creativecommons.org/licenses/by/4.0/ \n",
    "\n",
    "[cc-by-image]: https://i.creativecommons.org/l/by/4.0/88x31.png \n",
    "\n",
    "[cc-by-shield]: https://img.shields.io/badge/License-CC%20BY%204.0-lightgrey.svg "
   ]
  }
 ],
 "metadata": {
  "kernelspec": {
   "display_name": "Python 3 (ipykernel)",
   "language": "python",
   "name": "python3"
  },
  "language_info": {
   "codemirror_mode": {
    "name": "ipython",
    "version": 3
   },
   "file_extension": ".py",
   "mimetype": "text/x-python",
   "name": "python",
   "nbconvert_exporter": "python",
   "pygments_lexer": "ipython3",
   "version": "3.9.2"
  }
 },
 "nbformat": 4,
 "nbformat_minor": 2
}
