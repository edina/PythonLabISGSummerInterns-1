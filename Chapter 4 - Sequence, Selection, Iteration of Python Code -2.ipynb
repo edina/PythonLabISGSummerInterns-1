{
 "cells": [
  {
   "cell_type": "markdown",
   "metadata": {},
   "source": [
    "![image](https://github.com/jstix/everything-noteable/blob/master/Banner%20image/Screenshot%202021-03-05%20115453.png?raw=true)  "
   ]
  },
  {
   "cell_type": "markdown",
   "metadata": {},
   "source": [
    "# Chapter 4: Sequence, Selection, Iteration with Python in Noteable"
   ]
  },
  {
   "cell_type": "markdown",
   "metadata": {},
   "source": [
    "## Recap of Chapter 3 "
   ]
  },
  {
   "cell_type": "markdown",
   "metadata": {},
   "source": [
    "In Chapter 3 of the Python Programming Lab, you learned about\n",
    "\n",
    "* Adding Variables in Python \n",
    "* Some of the different symbols used in a flowchart\n",
    "* Adding new cells to notebooks\n",
    "* Creating a flowchart with an online flowchart tool\n",
    "* Addding an image to a notebook\n",
    "    \n",
    "</div>"
   ]
  },
  {
   "cell_type": "markdown",
   "metadata": {},
   "source": [
    "## Learning Objectives of the Python Programming Lab Chapter 4"
   ]
  },
  {
   "cell_type": "markdown",
   "metadata": {},
   "source": [
    "    \n",
    "By the end of Chapter, you will be able to:  \n",
    "\n",
    "* Describe how code is run in sequence\n",
    "* Give an example of using an <b>IF</b> statement to select part of a program\n",
    "* Describe how loops can be used to iterate a line of code\n",
    "* Change a value in code and run the code to see the impact\n",
    "</div>"
   ]
  },
  {
   "cell_type": "markdown",
   "metadata": {},
   "source": [
    "# 1. Sequence"
   ]
  },
  {
   "cell_type": "markdown",
   "metadata": {},
   "source": [
    "When you write lines of code, there are 3 ways the order of these lines will be processed by a computer: through <b>Sequence, Selection and Iteration.</b>\n",
    "\n",
    "* <b>Sequence</b> means that the computer will run your code in order, one line at a time from the top to the bottom of your program. It will start at line 1, then execute line 2 then line 3 and so on until it reaches the last line of your program. Sequence is the order in which instructions occur and are processed. \n",
    "* <b>Selection</b> determines which path a program takes when it is running, in the example used in Chapter 3, taking the temperature when walking into a room and finding it to be over 30 degrees Celsius would have determined turning the air conditioning on. \n",
    "* <b>Iteration</b> is the repeated execution of a section of code when a program is running. A website could have HTML code that tells it to repeatedly refresh the page until the user presses a button, for example. \n",
    "\n",
    "In the example code below, the computer processes the code one line after the other (in a sequence) to find the perimeter of a rectangle:  \n",
    "    \n",
    "          length = int(input(\"Enter the length of the rectangle: \"))\n",
    "          width = int(input(\"Enter the width of the rectangle: \"))\n",
    "          perimeter = 2 * (length + width)\n",
    "          print(\"The perimeter of the rectangle is \", perimeter)\n",
    "\n",
    "</div>"
   ]
  },
  {
   "cell_type": "markdown",
   "metadata": {},
   "source": [
    "## Try out sequences "
   ]
  },
  {
   "cell_type": "markdown",
   "metadata": {},
   "source": [
    "<div class = \"alert alert-block alert-warning\">\n",
    "\n",
    "The sequence of code is written in the cell below.   \n",
    "\n",
    "1. Select the Run button at the top of the window.\n",
    "2. Input a value for length and enter. \n",
    "3. Input a value for width and enter to see the results.  \n",
    "4. Try out using different values for length and width. \n",
    "    </div>"
   ]
  },
  {
   "cell_type": "code",
   "execution_count": 12,
   "metadata": {},
   "outputs": [
    {
     "name": "stdout",
     "output_type": "stream",
     "text": [
      "Enter the length of the rectangle and hit the enter button:20\n",
      "Enter the width of the rectangle and hit the enter button:10\n",
      "50 cm\n"
     ]
    }
   ],
   "source": [
    "length = int(input(\"Enter the length of the rectangle and hit the enter button:\"))\n",
    "width = int(input(\"Enter the width of the rectangle and hit the enter button:\"))\n",
    "perimeter = 2*length+width\n",
    "print(perimeter,'cm')"
   ]
  },
  {
   "cell_type": "markdown",
   "metadata": {},
   "source": [
    "Well done, you've just coded a short script that inputs a variable for the length of a square or recetangle, and the widgth, and calculates the perimeter."
   ]
  },
  {
   "cell_type": "markdown",
   "metadata": {},
   "source": [
    "# 2. Selection"
   ]
  },
  {
   "cell_type": "markdown",
   "metadata": {},
   "source": [
    "Sometimes you will want certain lines of code to only be run if a condition is met. Otherwise you want the computer to ignore these lines and skip over them.  \n",
    "\n",
    "This is achieved using **IF statements**. For example, if a condition is met then lines 4, 5, 6 in a script of code are executed, otherwise the computer jumps to line 7 without even looking at line 4, 5 and 6.\n",
    "\n",
    "In the code example shown below, we ask the user if it’s dark outside. If it is, then we tell them to turn on a light. If it’s not dark, then we tell them to turn off the light instead. We don’t run all of the code – we just run what is necessary, depending on whether the user types in yes or no.  \n",
    "        \n",
    "    dark = input(\"Is it dark outside?\")\n",
    "    if dark == \"yes\":\n",
    "        print(\"Turn on the light.\")\n",
    "    else:\n",
    "        print(\"Turn off the light.\")\n",
    "\n",
    "</div>"
   ]
  },
  {
   "cell_type": "markdown",
   "metadata": {},
   "source": [
    "## Try out If statements"
   ]
  },
  {
   "cell_type": "markdown",
   "metadata": {},
   "source": [
    "<div class = \"alert alert-block alert-warning\">\n",
    " The sequence of code for the 'turn on the light example' is written in the code cell below.  \n",
    "\n",
    "1. Select the Run button at the top of the window. An input box appears. Type yes and enter.  \n",
    "\n",
    "2. Select Run again. Try typing no or any other text in the input box.\n",
    "</div>"
   ]
  },
  {
   "cell_type": "code",
   "execution_count": null,
   "metadata": {},
   "outputs": [],
   "source": [
    "dark = input(\"Is it dark outside:\")\n",
    "if dark == \"yes\" :\n",
    "    print(\"Turn on the light\")\n",
    "else:\n",
    "    print(\"Turn off the light\")\n"
   ]
  },
  {
   "cell_type": "markdown",
   "metadata": {},
   "source": [
    "# 3. Iteration"
   ]
  },
  {
   "cell_type": "markdown",
   "metadata": {},
   "source": [
    "Sometimes you want the computer to execute the same lines of code several times. This is done using a <b>loop.</b> There are 2 types of loops in Python, **For loops** and **While loops.** Loops are handy as you don’t have to write the same lines of code many times.  \n",
    "    \n",
    "\n",
    "In the code example below, the computer prints “Carry on playing…” and makes the timer countdown over and over (looping the code) until the timer reaches 0.  \n",
    "    \n",
    "When the timer reaches 0, it stops running those 2 lines of code, jumps out of the loop and moves on to processing the next section of code.  \n",
    "    \n",
    "    timer = 10\n",
    "    while timer > 0:\n",
    "        print(\"Carry on playing...\")\n",
    "        timer = timer -1\n",
    "\n",
    " </div>"
   ]
  },
  {
   "cell_type": "markdown",
   "metadata": {},
   "source": [
    "## Try out loops"
   ]
  },
  {
   "cell_type": "markdown",
   "metadata": {},
   "source": [
    "<div class = \"alert alert-block alert-warning\">\n",
    "The sequence of code for the 'timer' example is written in the code cell below.  \n",
    "\n",
    "1. Select the Run button at the top of the window. \n",
    "2. Try different values for timer. What happens when you try 0?\n",
    "    \n",
    "    </div>\n"
   ]
  },
  {
   "cell_type": "code",
   "execution_count": 5,
   "metadata": {},
   "outputs": [
    {
     "name": "stdout",
     "output_type": "stream",
     "text": [
      "Carry on playing...\n",
      "Carry on playing...\n",
      "Carry on playing...\n",
      "Carry on playing...\n",
      "Carry on playing...\n",
      "Carry on playing...\n",
      "Carry on playing...\n",
      "Carry on playing...\n",
      "Carry on playing...\n",
      "Carry on playing...\n",
      "Carry on playing...\n",
      "Carry on playing...\n"
     ]
    }
   ],
   "source": [
    "timer = 12\n",
    "\n",
    "while timer > 0: \n",
    "    print(\"Carry on playing...\")\n",
    "    timer = timer -1"
   ]
  },
  {
   "cell_type": "markdown",
   "metadata": {},
   "source": [
    "[![CC BY 4.0][cc-by-shield]][cc-by] \n",
    "\n",
    "This work is licensed under a \n",
    "\n",
    "[Creative Commons Attribution 4.0 International License][cc-by]. \n",
    "\n",
    "[![CC BY 4.0][cc-by-image]][cc-by] \n",
    "\n",
    "To view a copy of this license, visit http://creativecommons.org/licenses/by/4.0/ or send a letter to Creative Commons, PO Box 1866, Mountain View, CA 94042, USA. \n",
    "\n",
    "[cc-by]: http://creativecommons.org/licenses/by/4.0/ \n",
    "\n",
    "[cc-by-image]: https://i.creativecommons.org/l/by/4.0/88x31.png \n",
    "\n",
    "[cc-by-shield]: https://img.shields.io/badge/License-CC%20BY%204.0-lightgrey.svg "
   ]
  }
 ],
 "metadata": {
  "kernelspec": {
   "display_name": "Python 3 (ipykernel)",
   "language": "python",
   "name": "python3"
  },
  "language_info": {
   "codemirror_mode": {
    "name": "ipython",
    "version": 3
   },
   "file_extension": ".py",
   "mimetype": "text/x-python",
   "name": "python",
   "nbconvert_exporter": "python",
   "pygments_lexer": "ipython3",
   "version": "3.9.2"
  }
 },
 "nbformat": 4,
 "nbformat_minor": 2
}
