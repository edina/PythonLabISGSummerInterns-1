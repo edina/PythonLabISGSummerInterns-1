{
 "cells": [
  {
   "cell_type": "markdown",
   "metadata": {},
   "source": [
    "![image](https://github.com/jstix/everything-noteable/blob/master/Banner%20image/Screenshot%202021-03-05%20115453.png?raw=true)"
   ]
  },
  {
   "cell_type": "markdown",
   "metadata": {},
   "source": [
    "# Chapter 6: Numbers, Math and Variables in Python "
   ]
  },
  {
   "cell_type": "markdown",
   "metadata": {},
   "source": [
    "# Recap"
   ]
  },
  {
   "cell_type": "markdown",
   "metadata": {},
   "source": [
    "\n",
    "Last time you tried out printing and used the **Print** function:  \n",
    "    \n",
    "* Display a single line message on screen  \n",
    "    \n",
    "* Display a multiple line message on screen\n",
    "\n",
    "You also learned about the ipywidgets package, and \n",
    "\n",
    "* Generating different widgets including the example of a slider.  \n",
    "\n",
    "</div>\n"
   ]
  },
  {
   "cell_type": "markdown",
   "metadata": {},
   "source": [
    "# Learning Objectives"
   ]
  },
  {
   "cell_type": "markdown",
   "metadata": {},
   "source": [
    "\n",
    "In chapter 6 of the Python Programming Lab, we look at: \n",
    "\n",
    "* Using Python as a calculator with specified mathematical properties\n",
    "* Use the **input** function to get information  - a **variable** - from the user\n",
    "* Learn the symbols for maths operations in Python  \n",
    "* Use the **int** function to convert input to an integer  \n",
    "* Use the **float** function to convert input to a real number with a decimal point  \n",
    "* Write code to define variables and perform calculations e.g. add together three variables  \n",
    "* Use the **print** function to display results\n",
    "</div>\n"
   ]
  },
  {
   "cell_type": "markdown",
   "metadata": {},
   "source": [
    "# The input () function"
   ]
  },
  {
   "cell_type": "markdown",
   "metadata": {},
   "source": [
    "\n",
    "* The **input** function allows the user to enter information into the computer.   \n",
    "* The computer can save this information into a variable.  \n",
    "* A **variable** is used to store information in a program.\n",
    " \n",
    "   \n",
    "</div>"
   ]
  },
  {
   "cell_type": "markdown",
   "metadata": {},
   "source": [
    "# Variable and input example"
   ]
  },
  {
   "cell_type": "markdown",
   "metadata": {},
   "source": [
    "<div class = \"alert alert-block alert-success\">  \n",
    "    \n",
    "Look at this code example:\n",
    "    \n",
    "    name = input(\"What is your name?\")\n",
    "    \n",
    "* The **input** function prints a message on the screen asking a user what their name is.  \n",
    "* The variable is \"name\". Whatever the user types will be stored in the 'name' variable.\n",
    "    \n",
    "</div>"
   ]
  },
  {
   "cell_type": "markdown",
   "metadata": {},
   "source": [
    "\n",
    "\n",
    "## Math in Python\n",
    "    \n",
    "### Asking questions and storing variables with Python:\n",
    "\n",
    "\n",
    "\n",
    " A list of symbols used for maths in Python is given here:  \n",
    "    \n",
    "* \"**+**\"\tAdd  \n",
    "* \"**-**\"\tSubtract \n",
    "* \"<b>*</b>\"\tMultiply  \n",
    "* \"**/**\"\tDivide  \n",
    "* \"**==**\" Equal to  \n",
    "* \"**>**\"\tGreater than\n",
    "* \"**<**\"\tLess than \n",
    "* \"**>=**\" Greater than or equal to  \n",
    "* \"**<=**\" Less than or equal to\n",
    "* \"**!=**\" Not equal to\n",
    "\n",
    "   \n",
    "</div>"
   ]
  },
  {
   "cell_type": "markdown",
   "metadata": {},
   "source": [
    "# Numerical data types in Python"
   ]
  },
  {
   "cell_type": "code",
   "execution_count": 1,
   "metadata": {},
   "outputs": [
    {
     "name": "stdout",
     "output_type": "stream",
     "text": [
      "1\n",
      "4\n",
      "9\n",
      "16\n",
      "25\n",
      "36\n",
      "49\n",
      "64\n",
      "81\n",
      "100\n"
     ]
    }
   ],
   "source": [
    "    \n",
    "# Activity: Try out some mathematical features in Python and become familiarised with the syntax\n",
    "\n",
    "# Here is an example of some Python code to display the first 10 square numbers\n",
    "for n in range(1,11):\n",
    "    print(n**2)\n",
    "\n"
   ]
  },
  {
   "cell_type": "markdown",
   "metadata": {},
   "source": [
    "This next concept is going to seem a little bit strange first, but is very easy to understand. \n",
    "\n",
    "You just have to aknowledge that computers deal with information differently from the way we human do. To understand this, we will now briefly go over the idea of 'type'. Most importantly, two different numerical data types; float (decimal numbers) and int (whole numbers).\n",
    "\n",
    "Examples of <b>ints</b>: 1, 2, 5, 6, 123, 345\n",
    "\n",
    "Examples of <b>floats</b>: 0.1, 0.00004, 0.234\n",
    "\n",
    "Let's now try a few examples to highlight this concept."
   ]
  },
  {
   "cell_type": "code",
   "execution_count": 2,
   "metadata": {
    "scrolled": true
   },
   "outputs": [
    {
     "data": {
      "text/plain": [
       "5"
      ]
     },
     "execution_count": 2,
     "metadata": {},
     "output_type": "execute_result"
    }
   ],
   "source": [
    "# Example for your use\n",
    "\n",
    "# This is an int, click on run to see the output\n",
    "2 + 3"
   ]
  },
  {
   "cell_type": "code",
   "execution_count": 3,
   "metadata": {},
   "outputs": [
    {
     "data": {
      "text/plain": [
       "0.6666666666666666"
      ]
     },
     "execution_count": 3,
     "metadata": {},
     "output_type": "execute_result"
    }
   ],
   "source": [
    "# Example for your use\n",
    "\n",
    "# This is a floating point value (float)\n",
    "\n",
    "2/3"
   ]
  },
  {
   "cell_type": "code",
   "execution_count": 4,
   "metadata": {},
   "outputs": [
    {
     "name": "stdout",
     "output_type": "stream",
     "text": [
      "100\n"
     ]
    }
   ],
   "source": [
    "# Parentheses are also important in Python – just like they are in general maths. \n",
    "# Items inside parentheses are calculated first\n",
    "    \n",
    "x = (10 + 10) * 5\n",
    "print(x)  \n",
    "    \n",
    "    \n",
    "# Here, the (10 + 10) would be calculated first as it is inside parentheses. \n",
    "# That result would then be multiplied by 5, giving a final answer of 100, which will be printed on the screen.\n"
   ]
  },
  {
   "cell_type": "markdown",
   "metadata": {},
   "source": [
    "## Using the preinstalled Matplotlib package to plot a graph\n",
    "\n",
    "Lets start our work with one of the most simplest and common equation Y = X². We want to plot 100 points on X-axis. In this case, the each and every value of Y is square of X value of the same index."
   ]
  },
  {
   "cell_type": "code",
   "execution_count": 6,
   "metadata": {},
   "outputs": [
    {
     "ename": "NameError",
     "evalue": "name 'np' is not defined",
     "output_type": "error",
     "traceback": [
      "\u001b[0;31m---------------------------------------------------------------------------\u001b[0m",
      "\u001b[0;31mNameError\u001b[0m                                 Traceback (most recent call last)",
      "\u001b[0;32m/tmp/ipykernel_147/1313539596.py\u001b[0m in \u001b[0;36m<module>\u001b[0;34m\u001b[0m\n\u001b[1;32m      1\u001b[0m \u001b[0;31m# An example of a graph creating vectors X and Y\u001b[0m\u001b[0;34m\u001b[0m\u001b[0;34m\u001b[0m\u001b[0;34m\u001b[0m\u001b[0m\n\u001b[1;32m      2\u001b[0m \u001b[0;34m\u001b[0m\u001b[0m\n\u001b[0;32m----> 3\u001b[0;31m \u001b[0mx\u001b[0m \u001b[0;34m=\u001b[0m \u001b[0mnp\u001b[0m\u001b[0;34m.\u001b[0m\u001b[0mlinspace\u001b[0m\u001b[0;34m(\u001b[0m\u001b[0;34m-\u001b[0m\u001b[0;36m2\u001b[0m\u001b[0;34m,\u001b[0m \u001b[0;36m2\u001b[0m\u001b[0;34m,\u001b[0m \u001b[0;36m100\u001b[0m\u001b[0;34m)\u001b[0m\u001b[0;34m\u001b[0m\u001b[0;34m\u001b[0m\u001b[0m\n\u001b[0m\u001b[1;32m      4\u001b[0m \u001b[0my\u001b[0m \u001b[0;34m=\u001b[0m \u001b[0mx\u001b[0m \u001b[0;34m**\u001b[0m \u001b[0;36m2\u001b[0m\u001b[0;34m\u001b[0m\u001b[0;34m\u001b[0m\u001b[0m\n\u001b[1;32m      5\u001b[0m \u001b[0;34m\u001b[0m\u001b[0m\n",
      "\u001b[0;31mNameError\u001b[0m: name 'np' is not defined"
     ]
    }
   ],
   "source": [
    "# An example of a graph creating vectors X and Y\n",
    "\n",
    "x = np.linspace(-2, 2, 100)\n",
    "y = x ** 2\n",
    " \n",
    "fig = plt.figure(figsize = (10, 5))\n",
    "# Create the plot\n",
    "plt.plot(x, y)\n",
    " \n",
    "# Show the plot\n",
    "plt.show()"
   ]
  },
  {
   "cell_type": "markdown",
   "metadata": {},
   "source": [
    "## What's next in the Python Programming Lab? \n",
    "\n",
    "Congratulations on completing chapter 6 of the Python Programming Lab in Jupyter. To do a quick recap, in this chapter you learned about:  \n",
    "* Using Python as a calculator with specified mathematical properties\n",
    "* Use the **input** function to get information  - a **variable** - from the user\n",
    "* Learn the symbols for maths operations in Python  \n",
    "* Use the **int** function to convert input to an integer  \n",
    "* Use the **float** function to convert input to a real number with a decimal point  \n",
    "* Write code to define variables and perform calculations e.g. add together three variables  \n",
    "* Use the **print** function to display results\n",
    "\n",
    "Next up, in Chapter 7 you are going to: \n",
    "\n",
    "* Use one of the popular data visualisation libraries, Folium, for geospatial data visualisation it can cover most mapping needs in Python with its great plugins.\n",
    "* Carry out a task that a data scientist looking to develop some simple machine learning algorithms may be looking to do. \n",
    "* Generate your own visualisations using data visualisation libraries and edit these to suit the needs in a data scientist's scenario. \n",
    "\n"
   ]
  },
  {
   "cell_type": "markdown",
   "metadata": {},
   "source": [
    "[![CC BY 4.0][cc-by-shield]][cc-by] \n",
    "\n",
    "This work is licensed under a \n",
    "\n",
    "[Creative Commons Attribution 4.0 International License][cc-by]. \n",
    "\n",
    "[![CC BY 4.0][cc-by-image]][cc-by] \n",
    "\n",
    "To view a copy of this license, visit http://creativecommons.org/licenses/by/4.0/ or send a letter to Creative Commons, PO Box 1866, Mountain View, CA 94042, USA. \n",
    "\n",
    "[cc-by]: http://creativecommons.org/licenses/by/4.0/ \n",
    "\n",
    "[cc-by-image]: https://i.creativecommons.org/l/by/4.0/88x31.png \n",
    "\n",
    "[cc-by-shield]: https://img.shields.io/badge/License-CC%20BY%204.0-lightgrey.svg "
   ]
  },
  {
   "cell_type": "code",
   "execution_count": null,
   "metadata": {},
   "outputs": [],
   "source": []
  },
  {
   "cell_type": "code",
   "execution_count": null,
   "metadata": {},
   "outputs": [],
   "source": []
  }
 ],
 "metadata": {
  "kernelspec": {
   "display_name": "Python 3 (ipykernel)",
   "language": "python",
   "name": "python3"
  },
  "language_info": {
   "codemirror_mode": {
    "name": "ipython",
    "version": 3
   },
   "file_extension": ".py",
   "mimetype": "text/x-python",
   "name": "python",
   "nbconvert_exporter": "python",
   "pygments_lexer": "ipython3",
   "version": "3.9.2"
  }
 },
 "nbformat": 4,
 "nbformat_minor": 2
}
