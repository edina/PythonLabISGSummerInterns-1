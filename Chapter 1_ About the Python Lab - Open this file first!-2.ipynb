{
 "cells": [
  {
   "cell_type": "markdown",
   "id": "beneficial-florence",
   "metadata": {},
   "source": [
    "![image](https://github.com/jstix/everything-noteable/blob/master/Banner%20image/Screenshot%202021-03-05%20115453.png?raw=true)  "
   ]
  },
  {
   "cell_type": "markdown",
   "id": "threatened-counter",
   "metadata": {},
   "source": [
    "# Welcome to the Python Programming Lab!"
   ]
  },
  {
   "cell_type": "markdown",
   "id": "fitting-electricity",
   "metadata": {},
   "source": [
    "\n",
    "The Python Programming Lab is designed to introduce anyone who is getting started learning Python. This file will be a good reference for you to refer to, as it includes information on the building blocks of coding with Python in a Jupyter notebook with Noteable.  \n",
    "    \n",
    "  ### Introduction to the Programming Lab: \n",
    "    \n",
    "* There are 8 chapters, each presented in a different Jupyter notebook file. which ends with the .ipynb file extension\n",
    "* You can work through these notebooks and explore coding with Python in this interface.  \n",
    "* The chapters include information, code examples, links to YouTube tutorials and activities for you to complete.  \n",
    "* You can complete the activities by editing cells where required, adding new code cells within the notebook and typing in your code. You will be guided through activities in each notebook and, by the end of the Programming Lab, will have learned how Python is an Object-Oriented Programming language where you can place different pieces of information together by bundling related properties and behaviors into individual objects. \n",
    "* Conceptually, objects are like the components of a system. Think of a program as a factory assembly line of sorts. At each step of the assembly line a system component processes some material, ultimately transforming raw material into a finished product.\n",
    "\n",
    "When you have completed this notebook, you should be able to: \n",
    "* Launch your own Jupyter notebook using Noteable \n",
    "* Access preconfigured programming environments \n",
    "* Insert new cells with the 'Cell' button and choose a Markdown cell for formatting of text, explanations and natural language sections in a notebook\n",
    "* Change colours of Markdown cell backgrounds\n",
    "* Become familiarised with list widgets which you can use to keep track of your progress throughout the Python Programming Lab with Noteable. Note that you will revisit Lists later on in the Programming Lab. \n"
   ]
  },
  {
   "cell_type": "markdown",
   "id": "deadly-entertainment",
   "metadata": {},
   "source": [
    "# Introduction to Markdown: Cell colours"
   ]
  },
  {
   "cell_type": "markdown",
   "id": "going-gathering",
   "metadata": {},
   "source": [
    "Jupyter notebooks are files that benefit from being able to combine paragraph-like spaces from top to bottom of the file, which are called 'cells' which have different qualities. You can tell which cell you are selecting by clicking on any given cell in a notebook, which will highlight that cellw with a blue vertical line on the left side of the selected cell. \n",
    "\n",
    "From the drop down menu in the header bar, you can tell your Notebook how you want it to interpret any given cell, including 'Markdown' and 'Code' which allow you to alternate between a Markdown cell for formatting explanations and plain text, and the Code type cell for running Python code and the chosen Noteable kernel. \n",
    "\n",
    "In this first notebook, you will learn about formatting your notebook to make it presentable using the Markdown type cell. \n",
    "\n",
    "You can read more about the Markdown type cell in this [excellent resource for Markdown](\"https://jupyter.brynmawr.edu/services/public/dblank/Jupyter%20Notebook%20Users%20Manual.ipynb\"). \n",
    "\n",
    "The cells in each notebook can have different colours, and you can change them by switching up the code with the following four examples of Markdown style classes. Have a go at adding  in the Markdown cell below by double clicking on this Markdown cell to see the cell content in Markdown, and choosing one to add into the empty Markdown cell underneath:\n",
    "\n",
    "Clicking on the Run button in the header bar will run the cell that you have selected:\n",
    "\n",
    "<div class=\"alert alert-block alert-info\">\n",
    "This is a blue background\n",
    "</div>\n",
    "\n",
    "<div class=\"alert alert-block alert-warning\">\n",
    "This is a yellow background\n",
    "</div>\n",
    "\n",
    "<div class=\"alert alert-block alert-success\">\n",
    "This is a green background\n",
    "</div>\n",
    "\n",
    "<div class=\"alert alert-block alert-danger\">\n",
    "This is a red background\n",
    "</div>\n"
   ]
  },
  {
   "cell_type": "markdown",
   "id": "least-airplane",
   "metadata": {},
   "source": [
    "THIS IS AN EMPTY MARKDOWN CELL - DOUBLE CLICK ME TO EDIT AND ADD MARKDOWN FORMATTING."
   ]
  },
  {
   "cell_type": "markdown",
   "id": "direct-procedure",
   "metadata": {},
   "source": [
    "# What is a notebook?"
   ]
  },
  {
   "cell_type": "markdown",
   "id": "ignored-supply",
   "metadata": {},
   "source": [
    "Noteable provides access to Jupyter notebooks with different configurations. The notebooks let you code in your internet browser and run and test your code straight away. You do not need to download and install different applications to start coding. \n"
   ]
  },
  {
   "cell_type": "markdown",
   "id": "patient-implement",
   "metadata": {},
   "source": [
    "# What are the different cell types?"
   ]
  },
  {
   "cell_type": "markdown",
   "id": "architectural-montana",
   "metadata": {},
   "source": [
    "When you insert new cells, you select what type of cell it is: \n",
    "    \n",
    "* **Code** cells are where you type your code.\n",
    "* **Markdown** cells are where you type information or add images or links to other sites. Markdown is a simple markup language - that means it tells the computer how to display your text. Check the useful links if you want to find out more about Markdown.\n",
    "* **Heading** cells are used to display a heading for a section of the notebook.\n",
    "* **Raw NBConvert** cells are used if you want to convert the notebook to display it elsewhere - we will not ask you to use them in this lab.\n",
    "    \n"
   ]
  },
  {
   "cell_type": "markdown",
   "id": "extraordinary-credits",
   "metadata": {},
   "source": [
    "# Glossary of Python terms"
   ]
  },
  {
   "cell_type": "markdown",
   "id": "tight-terror",
   "metadata": {},
   "source": [
    "<div class = \"alert alert-block alert-success\">    \n",
    "    \n",
    "W3C Schools provide a [useful glossary of Python terminology](https://www.w3schools.com/python/python_ref_glossary.asp).  \n",
    "\n",
    "</div>"
   ]
  },
  {
   "cell_type": "markdown",
   "id": "norman-barbados",
   "metadata": {},
   "source": [
    "# Note your progress"
   ]
  },
  {
   "cell_type": "markdown",
   "id": "sexual-swing",
   "metadata": {},
   "source": [
    "\n",
    "Keep a note of all the exercises you try in the 8 different chapters. The code cell under this one is an example of how to create a list that can track the notebooks you complete. Select the cell and select <b>Run</b>. Check the box next to each exercise. This way you can keep up with your progress through this notebook as a base. \n",
    "</div>"
   ]
  },
  {
   "cell_type": "code",
   "execution_count": 1,
   "id": "advance-castle",
   "metadata": {
    "scrolled": true
   },
   "outputs": [
    {
     "data": {
      "application/vnd.jupyter.widget-view+json": {
       "model_id": "23e47986827d440d98155e2e9570eb6c",
       "version_major": 2,
       "version_minor": 0
      },
      "text/plain": [
       "VBox(children=(Checkbox(value=False, description='1. – About the Python Lab'), Checkbox(value=False, descripti…"
      ]
     },
     "metadata": {},
     "output_type": "display_data"
    }
   ],
   "source": [
    "import ipywidgets as widgets\n",
    "data = [\"1. – About the Python Lab\", \"2. – Introduction to Algorithms\", \"3. – Introduction to data\", \"4. - introduction algorithms\", \"5. Python packages in Noteable\", \"6. Server Selection in Noteable\", \"7. Make  Graphs and Widgets\", \"8. The R with Stan notebook\"]\n",
    "checkboxes = [widgets.Checkbox(value=False, description=label) for label in data]\n",
    "output = widgets.VBox(children=checkboxes)\n",
    "display(output)"
   ]
  },
  {
   "cell_type": "markdown",
   "id": "tough-sheriff",
   "metadata": {},
   "source": [
    "# Congrats ISG interns! You have completed your first Python Lab notebook with Noteable. Where to next? \n",
    "\n",
    "Congratulations on completing your first Jupyter notebook in Noteable. You have learned about some of the core components involved in computational thinking, that is, approaching computers as the input-process-output wonderful machines they are. \n",
    "\n",
    "With Jupyter notebooks in Noteable, you have seen how you can access your own virtual environment and run interactive files where code and human languages like English are coming together in new and interesting ways. Long gone are the days of cascading style sheets of code and screens of green cryptic digital rain like you see in the  Matrix films. \n",
    "![image](https://github.com/jstix/everything-noteable/blob/master/Matrix%20GIF/Digital_rain_animation_medium_letters_shine.gif?raw=true)\n",
    "\n",
    "This GIF above shows the Matrix-like cascading symbols of code, and the GIF itself is an example of importing an image from somewhere on the internet, in this case <b>GitHub, the provider of Internet hosting for software development and version control using Git. Git is software for tracking changes in any set of files, usually used for coordinating work among programmers.</b>\n",
    "\n",
    "* You can double click on this cell to see the link and reference to the image in Markdown. \n",
    "\n",
    "\n",
    "<b>Now, you can progress to Chapter 2 of the Python Programming lab: Algorithms. In this chapter you will learn about the recipe-like order that computers follow to carry out user commands, like running this Markdown cell.<b>\n"
   ]
  },
  {
   "cell_type": "markdown",
   "id": "exclusive-armstrong",
   "metadata": {},
   "source": [
    "# Useful links"
   ]
  },
  {
   "cell_type": "markdown",
   "id": "medium-optimum",
   "metadata": {},
   "source": [
    "<div class = \"alert alert-block alert-success\">    \n",
    "\n",
    "Find links to helpful sites and books for learning Python:  \n",
    "\n",
    "## Online learning  \n",
    "    \n",
    "[**Codeacademy**](https://www.codecademy.com/) - an online interactive platform that offers coding classes in 12 different programming languages, including Python.\n",
    "\n",
    "[**W3Schools**](https://www.w3schools.com/python/default.asp) – a very useful website that offers tutorials, online demonstrations and code snippets for you to use in your coding projects.\n",
    "\n",
    "[**YouTube**](https://www.youtube.com/) – if you like watching video tutorials, head over to YouTube and simply do a search for some beginner Python tutorials. In the notebooks, we link to videos from this channel – [**Geek Tutorials.**](https://www.youtube.com/playlist?list=PLS9qLR8VoFA4XkW9JqP5cBQSUAtk0LlQ-)\n",
    "\n",
    "\n",
    "## About Python\n",
    "[**Python**](https://www.python.org/) – the official website of Python. Download the official Python editor and read some fairly in-depth documentation about Python - if that’s your thing.\n",
    "\n",
    "    \n",
    "## Computers  \n",
    "    \n",
    "[**micro:bit**](https://microbit.org/) – a tiny, programmable computer that is great to learn coding on. \n",
    "\n",
    "[**Raspberry Pi**](https://www.raspberrypi.org/) Raspberry Pi – a pocket sized computer that is brilliant for learning how to code in Python. It’s full of different apps you can play with, including learning to code with Minecraft.\n",
    "    \n",
    "## Markdown guide\n",
    "\n",
    "[**Guide to Markdown syntax.**](https://www.markdownguide.org/basic-syntax/)\n",
    "\n",
    "</div>"
   ]
  },
  {
   "cell_type": "markdown",
   "id": "breathing-liberty",
   "metadata": {},
   "source": [
    "# Credits"
   ]
  },
  {
   "cell_type": "markdown",
   "id": "conservative-gothic",
   "metadata": {},
   "source": [
    "  \n",
    "The Python Programming Lab has been converted and adapted from teaching documents used by Computing Science teachers. \n",
    "</div>\n",
    "\n",
    "<div\n",
    "This workbook and exercises included in the Python and RStudio resources alongside this workbook include content adapted from a number of sources with creative commons licenses open to share and compatible with the Creative Commons Attribution 4.0 International License for these resources. \n",
    "     \n",
    "\n",
    "These materials have been developed by EDINA for use by University of Edinburgh ISG student interns within the skills programme organised by Unitemps and ISG. \n",
    "\n",
    "The Python Workbook has been adapted by material developed by Geek Tutorials and Timothy Bateup, a Teacher in the Australian Noosa District. \n"
   ]
  },
  {
   "cell_type": "markdown",
   "id": "structured-lesson",
   "metadata": {},
   "source": [
    "</div>\n",
    "\n",
    "This work is licensed under a Creative Commons Attribution 4.0 International License. \n",
    "\n",
    "   <div>\n",
    "<img src=\"attachment:image.png\" width=\"100\"/>\n",
    "    </div>"
   ]
  },
  {
   "cell_type": "code",
   "execution_count": null,
   "id": "infectious-finger",
   "metadata": {},
   "outputs": [],
   "source": []
  }
 ],
 "metadata": {
  "kernelspec": {
   "display_name": "Python 3 (ipykernel)",
   "language": "python",
   "name": "python3"
  },
  "language_info": {
   "codemirror_mode": {
    "name": "ipython",
    "version": 3
   },
   "file_extension": ".py",
   "mimetype": "text/x-python",
   "name": "python",
   "nbconvert_exporter": "python",
   "pygments_lexer": "ipython3",
   "version": "3.9.2"
  }
 },
 "nbformat": 4,
 "nbformat_minor": 5
}
