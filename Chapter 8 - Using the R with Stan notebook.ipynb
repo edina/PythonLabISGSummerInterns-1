{
 "cells": [
  {
   "cell_type": "markdown",
   "metadata": {},
   "source": [
    "![image](https://github.com/jstix/everything-noteable/blob/master/Banner%20image/Screenshot%202021-03-05%20115453.png?raw=true)  "
   ]
  },
  {
   "cell_type": "markdown",
   "metadata": {
    "slideshow": {
     "slide_type": "slide"
    }
   },
   "source": [
    "# Chapter 8: Using the R with Stan notebook"
   ]
  },
  {
   "cell_type": "markdown",
   "metadata": {},
   "source": [
    "# Recap of Chapter 7 "
   ]
  },
  {
   "cell_type": "markdown",
   "metadata": {},
   "source": [
    "In Chapter 7, we looked at graph visualisations in a notebook with Noteable and an example of accessing specific libraries through the preconfigured notebook servers available in Noteable. \n",
    "\n",
    "You learned about: \n",
    "    \n",
    "* If and Else statements as pathways for an algorithm to follow. \n",
    "    \n",
    "* Built on the data wrangling strengths of the Python ecosystem and the mapping strengths of the Leaflet.js library\n",
    "\n",
    "* Manipulated data parameters in Python for a visualisation in a Leaflet map via the folium library.\n",
    "</div>"
   ]
  },
  {
   "cell_type": "markdown",
   "metadata": {},
   "source": [
    "# Learning Objectives"
   ]
  },
  {
   "cell_type": "markdown",
   "metadata": {},
   "source": [
    "\n",
    "In this chapter, you will access the **R with Stan** notebook. By the end of the chapter, you will be able to:\n",
    "\n",
    "* Call a dataset included in R to carry out an example analysis of chick weights associated with each feed\n",
    "* Analyse the data and come up with your own analysis of the data\n",
    "* Complete the Python Lab with an understanding of Noteable as a service and available tool\n",
    "* Work with data in new ways and start carrying out or continuing tasks in Python and Jupyter notebooks. \n",
    "    \n",
    "</div>"
   ]
  },
  {
   "cell_type": "markdown",
   "metadata": {},
   "source": [
    "## An introduction to the R with Stan notebook server"
   ]
  },
  {
   "cell_type": "markdown",
   "metadata": {},
   "source": [
    "Firstly, if you selected the Standard environment when first accessing Noteable, click save on the top left icon or under File, then click on the Jupyter icon above the save button which will take you back to the main access dashboard, then click on the Jupyter icon on the top right which will redirect you to either reconnect to your current notebook server or shut it down. Shut your current server down and this will return you to the notebook server selection webpage. \n",
    "\n",
    "From here, click on the drop-down list and select the R with Stan notebook server. \n",
    "\n",
    "Then you will be taken to the same dashboard home for your files using the R with Stan kernel, which allows you to switch kernels inside a Jupyter notebook file and code with R, using a couple of simple buttons. \n",
    "\n",
    "<b>When you have reaccessed this same notebook file from within the R with Stan notebook server, make sure you click on Kernel from the header menu of the notebook file, then change the kernel from Python to R with Stan. \n",
    "    \n",
    "Usually, developers make use of the Jupyter Notebook file type and interface to write code in Python. However, Jupyter also supports other programming languages, including Java, R, Julia, Matlab, Octave, Scheme, Processing, Scala and many others.\n",
    "\n",
    "</div>\n"
   ]
  },
  {
   "cell_type": "code",
   "execution_count": 7,
   "metadata": {},
   "outputs": [
    {
     "data": {
      "text/html": [
       "<table class=\"dataframe\">\n",
       "<caption>A data.frame: 71 × 2</caption>\n",
       "<thead>\n",
       "\t<tr><th scope=col>weight</th><th scope=col>feed</th></tr>\n",
       "\t<tr><th scope=col>&lt;dbl&gt;</th><th scope=col>&lt;fct&gt;</th></tr>\n",
       "</thead>\n",
       "<tbody>\n",
       "\t<tr><td>179</td><td>horsebean</td></tr>\n",
       "\t<tr><td>160</td><td>horsebean</td></tr>\n",
       "\t<tr><td>136</td><td>horsebean</td></tr>\n",
       "\t<tr><td>227</td><td>horsebean</td></tr>\n",
       "\t<tr><td>217</td><td>horsebean</td></tr>\n",
       "\t<tr><td>168</td><td>horsebean</td></tr>\n",
       "\t<tr><td>108</td><td>horsebean</td></tr>\n",
       "\t<tr><td>124</td><td>horsebean</td></tr>\n",
       "\t<tr><td>143</td><td>horsebean</td></tr>\n",
       "\t<tr><td>140</td><td>horsebean</td></tr>\n",
       "\t<tr><td>309</td><td>linseed  </td></tr>\n",
       "\t<tr><td>229</td><td>linseed  </td></tr>\n",
       "\t<tr><td>181</td><td>linseed  </td></tr>\n",
       "\t<tr><td>141</td><td>linseed  </td></tr>\n",
       "\t<tr><td>260</td><td>linseed  </td></tr>\n",
       "\t<tr><td>203</td><td>linseed  </td></tr>\n",
       "\t<tr><td>148</td><td>linseed  </td></tr>\n",
       "\t<tr><td>169</td><td>linseed  </td></tr>\n",
       "\t<tr><td>213</td><td>linseed  </td></tr>\n",
       "\t<tr><td>257</td><td>linseed  </td></tr>\n",
       "\t<tr><td>244</td><td>linseed  </td></tr>\n",
       "\t<tr><td>271</td><td>linseed  </td></tr>\n",
       "\t<tr><td>243</td><td>soybean  </td></tr>\n",
       "\t<tr><td>230</td><td>soybean  </td></tr>\n",
       "\t<tr><td>248</td><td>soybean  </td></tr>\n",
       "\t<tr><td>327</td><td>soybean  </td></tr>\n",
       "\t<tr><td>329</td><td>soybean  </td></tr>\n",
       "\t<tr><td>250</td><td>soybean  </td></tr>\n",
       "\t<tr><td>193</td><td>soybean  </td></tr>\n",
       "\t<tr><td>271</td><td>soybean  </td></tr>\n",
       "\t<tr><td>⋮</td><td>⋮</td></tr>\n",
       "\t<tr><td>226</td><td>sunflower</td></tr>\n",
       "\t<tr><td>320</td><td>sunflower</td></tr>\n",
       "\t<tr><td>295</td><td>sunflower</td></tr>\n",
       "\t<tr><td>334</td><td>sunflower</td></tr>\n",
       "\t<tr><td>322</td><td>sunflower</td></tr>\n",
       "\t<tr><td>297</td><td>sunflower</td></tr>\n",
       "\t<tr><td>318</td><td>sunflower</td></tr>\n",
       "\t<tr><td>325</td><td>meatmeal </td></tr>\n",
       "\t<tr><td>257</td><td>meatmeal </td></tr>\n",
       "\t<tr><td>303</td><td>meatmeal </td></tr>\n",
       "\t<tr><td>315</td><td>meatmeal </td></tr>\n",
       "\t<tr><td>380</td><td>meatmeal </td></tr>\n",
       "\t<tr><td>153</td><td>meatmeal </td></tr>\n",
       "\t<tr><td>263</td><td>meatmeal </td></tr>\n",
       "\t<tr><td>242</td><td>meatmeal </td></tr>\n",
       "\t<tr><td>206</td><td>meatmeal </td></tr>\n",
       "\t<tr><td>344</td><td>meatmeal </td></tr>\n",
       "\t<tr><td>258</td><td>meatmeal </td></tr>\n",
       "\t<tr><td>368</td><td>casein   </td></tr>\n",
       "\t<tr><td>390</td><td>casein   </td></tr>\n",
       "\t<tr><td>379</td><td>casein   </td></tr>\n",
       "\t<tr><td>260</td><td>casein   </td></tr>\n",
       "\t<tr><td>404</td><td>casein   </td></tr>\n",
       "\t<tr><td>318</td><td>casein   </td></tr>\n",
       "\t<tr><td>352</td><td>casein   </td></tr>\n",
       "\t<tr><td>359</td><td>casein   </td></tr>\n",
       "\t<tr><td>216</td><td>casein   </td></tr>\n",
       "\t<tr><td>222</td><td>casein   </td></tr>\n",
       "\t<tr><td>283</td><td>casein   </td></tr>\n",
       "\t<tr><td>332</td><td>casein   </td></tr>\n",
       "</tbody>\n",
       "</table>\n"
      ],
      "text/latex": [
       "A data.frame: 71 × 2\n",
       "\\begin{tabular}{ll}\n",
       " weight & feed\\\\\n",
       " <dbl> & <fct>\\\\\n",
       "\\hline\n",
       "\t 179 & horsebean\\\\\n",
       "\t 160 & horsebean\\\\\n",
       "\t 136 & horsebean\\\\\n",
       "\t 227 & horsebean\\\\\n",
       "\t 217 & horsebean\\\\\n",
       "\t 168 & horsebean\\\\\n",
       "\t 108 & horsebean\\\\\n",
       "\t 124 & horsebean\\\\\n",
       "\t 143 & horsebean\\\\\n",
       "\t 140 & horsebean\\\\\n",
       "\t 309 & linseed  \\\\\n",
       "\t 229 & linseed  \\\\\n",
       "\t 181 & linseed  \\\\\n",
       "\t 141 & linseed  \\\\\n",
       "\t 260 & linseed  \\\\\n",
       "\t 203 & linseed  \\\\\n",
       "\t 148 & linseed  \\\\\n",
       "\t 169 & linseed  \\\\\n",
       "\t 213 & linseed  \\\\\n",
       "\t 257 & linseed  \\\\\n",
       "\t 244 & linseed  \\\\\n",
       "\t 271 & linseed  \\\\\n",
       "\t 243 & soybean  \\\\\n",
       "\t 230 & soybean  \\\\\n",
       "\t 248 & soybean  \\\\\n",
       "\t 327 & soybean  \\\\\n",
       "\t 329 & soybean  \\\\\n",
       "\t 250 & soybean  \\\\\n",
       "\t 193 & soybean  \\\\\n",
       "\t 271 & soybean  \\\\\n",
       "\t ⋮ & ⋮\\\\\n",
       "\t 226 & sunflower\\\\\n",
       "\t 320 & sunflower\\\\\n",
       "\t 295 & sunflower\\\\\n",
       "\t 334 & sunflower\\\\\n",
       "\t 322 & sunflower\\\\\n",
       "\t 297 & sunflower\\\\\n",
       "\t 318 & sunflower\\\\\n",
       "\t 325 & meatmeal \\\\\n",
       "\t 257 & meatmeal \\\\\n",
       "\t 303 & meatmeal \\\\\n",
       "\t 315 & meatmeal \\\\\n",
       "\t 380 & meatmeal \\\\\n",
       "\t 153 & meatmeal \\\\\n",
       "\t 263 & meatmeal \\\\\n",
       "\t 242 & meatmeal \\\\\n",
       "\t 206 & meatmeal \\\\\n",
       "\t 344 & meatmeal \\\\\n",
       "\t 258 & meatmeal \\\\\n",
       "\t 368 & casein   \\\\\n",
       "\t 390 & casein   \\\\\n",
       "\t 379 & casein   \\\\\n",
       "\t 260 & casein   \\\\\n",
       "\t 404 & casein   \\\\\n",
       "\t 318 & casein   \\\\\n",
       "\t 352 & casein   \\\\\n",
       "\t 359 & casein   \\\\\n",
       "\t 216 & casein   \\\\\n",
       "\t 222 & casein   \\\\\n",
       "\t 283 & casein   \\\\\n",
       "\t 332 & casein   \\\\\n",
       "\\end{tabular}\n"
      ],
      "text/markdown": [
       "\n",
       "A data.frame: 71 × 2\n",
       "\n",
       "| weight &lt;dbl&gt; | feed &lt;fct&gt; |\n",
       "|---|---|\n",
       "| 179 | horsebean |\n",
       "| 160 | horsebean |\n",
       "| 136 | horsebean |\n",
       "| 227 | horsebean |\n",
       "| 217 | horsebean |\n",
       "| 168 | horsebean |\n",
       "| 108 | horsebean |\n",
       "| 124 | horsebean |\n",
       "| 143 | horsebean |\n",
       "| 140 | horsebean |\n",
       "| 309 | linseed   |\n",
       "| 229 | linseed   |\n",
       "| 181 | linseed   |\n",
       "| 141 | linseed   |\n",
       "| 260 | linseed   |\n",
       "| 203 | linseed   |\n",
       "| 148 | linseed   |\n",
       "| 169 | linseed   |\n",
       "| 213 | linseed   |\n",
       "| 257 | linseed   |\n",
       "| 244 | linseed   |\n",
       "| 271 | linseed   |\n",
       "| 243 | soybean   |\n",
       "| 230 | soybean   |\n",
       "| 248 | soybean   |\n",
       "| 327 | soybean   |\n",
       "| 329 | soybean   |\n",
       "| 250 | soybean   |\n",
       "| 193 | soybean   |\n",
       "| 271 | soybean   |\n",
       "| ⋮ | ⋮ |\n",
       "| 226 | sunflower |\n",
       "| 320 | sunflower |\n",
       "| 295 | sunflower |\n",
       "| 334 | sunflower |\n",
       "| 322 | sunflower |\n",
       "| 297 | sunflower |\n",
       "| 318 | sunflower |\n",
       "| 325 | meatmeal  |\n",
       "| 257 | meatmeal  |\n",
       "| 303 | meatmeal  |\n",
       "| 315 | meatmeal  |\n",
       "| 380 | meatmeal  |\n",
       "| 153 | meatmeal  |\n",
       "| 263 | meatmeal  |\n",
       "| 242 | meatmeal  |\n",
       "| 206 | meatmeal  |\n",
       "| 344 | meatmeal  |\n",
       "| 258 | meatmeal  |\n",
       "| 368 | casein    |\n",
       "| 390 | casein    |\n",
       "| 379 | casein    |\n",
       "| 260 | casein    |\n",
       "| 404 | casein    |\n",
       "| 318 | casein    |\n",
       "| 352 | casein    |\n",
       "| 359 | casein    |\n",
       "| 216 | casein    |\n",
       "| 222 | casein    |\n",
       "| 283 | casein    |\n",
       "| 332 | casein    |\n",
       "\n"
      ],
      "text/plain": [
       "   weight feed     \n",
       "1  179    horsebean\n",
       "2  160    horsebean\n",
       "3  136    horsebean\n",
       "4  227    horsebean\n",
       "5  217    horsebean\n",
       "6  168    horsebean\n",
       "7  108    horsebean\n",
       "8  124    horsebean\n",
       "9  143    horsebean\n",
       "10 140    horsebean\n",
       "11 309    linseed  \n",
       "12 229    linseed  \n",
       "13 181    linseed  \n",
       "14 141    linseed  \n",
       "15 260    linseed  \n",
       "16 203    linseed  \n",
       "17 148    linseed  \n",
       "18 169    linseed  \n",
       "19 213    linseed  \n",
       "20 257    linseed  \n",
       "21 244    linseed  \n",
       "22 271    linseed  \n",
       "23 243    soybean  \n",
       "24 230    soybean  \n",
       "25 248    soybean  \n",
       "26 327    soybean  \n",
       "27 329    soybean  \n",
       "28 250    soybean  \n",
       "29 193    soybean  \n",
       "30 271    soybean  \n",
       "⋮  ⋮      ⋮        \n",
       "42 226    sunflower\n",
       "43 320    sunflower\n",
       "44 295    sunflower\n",
       "45 334    sunflower\n",
       "46 322    sunflower\n",
       "47 297    sunflower\n",
       "48 318    sunflower\n",
       "49 325    meatmeal \n",
       "50 257    meatmeal \n",
       "51 303    meatmeal \n",
       "52 315    meatmeal \n",
       "53 380    meatmeal \n",
       "54 153    meatmeal \n",
       "55 263    meatmeal \n",
       "56 242    meatmeal \n",
       "57 206    meatmeal \n",
       "58 344    meatmeal \n",
       "59 258    meatmeal \n",
       "60 368    casein   \n",
       "61 390    casein   \n",
       "62 379    casein   \n",
       "63 260    casein   \n",
       "64 404    casein   \n",
       "65 318    casein   \n",
       "66 352    casein   \n",
       "67 359    casein   \n",
       "68 216    casein   \n",
       "69 222    casein   \n",
       "70 283    casein   \n",
       "71 332    casein   "
      ]
     },
     "metadata": {},
     "output_type": "display_data"
    }
   ],
   "source": [
    "# R comes with a number of datasets built in. \n",
    "# Once you have accessed the R with Stan notebook server, type View(chickwts) to see the dataset called chickwts.\n",
    "\n",
    "View(chickwts)"
   ]
  },
  {
   "cell_type": "code",
   "execution_count": 9,
   "metadata": {},
   "outputs": [],
   "source": [
    "# Type ?chickwts to see information about the dataset called chickwts\n",
    "# This will generate a pop up window from the bottom to the middle of your browser\n",
    "\n",
    "# You can click on the x to close the window that appears when you click on Run. \n",
    "\n",
    "?chickwts"
   ]
  },
  {
   "cell_type": "code",
   "execution_count": 10,
   "metadata": {},
   "outputs": [],
   "source": [
    "# Type attach(chickwts) to use the data in the dataset called chickwts\n",
    "\n",
    "attach(chickwts)"
   ]
  },
  {
   "cell_type": "code",
   "execution_count": 11,
   "metadata": {},
   "outputs": [
    {
     "data": {
      "image/png": "[encoded data removed]",
      "text/plain": [
       "plot without title"
      ]
     },
     "metadata": {
      "image/png": {
       "height": 420,
       "width": 420
      }
     },
     "output_type": "display_data"
    }
   ],
   "source": [
    "# Run the command below in this code cell in R, this will generate a new plot analysing the weight of bird chicks\n",
    "\n",
    "boxplot(split(weight,feed))"
   ]
  },
  {
   "cell_type": "code",
   "execution_count": 12,
   "metadata": {},
   "outputs": [
    {
     "data": {
      "text/html": [
       "<table class=\"dataframe\">\n",
       "<caption>A data.frame: 6 × 2</caption>\n",
       "<thead>\n",
       "\t<tr><th scope=col>Group.1</th><th scope=col>x</th></tr>\n",
       "\t<tr><th scope=col>&lt;fct&gt;</th><th scope=col>&lt;dbl[,6]&gt;</th></tr>\n",
       "</thead>\n",
       "<tbody>\n",
       "\t<tr><td>casein   </td><td>216, 277.25, 342.0, 323.5833, 370.75, 404</td></tr>\n",
       "\t<tr><td>horsebean</td><td>108, 137.00, 151.5, 160.2000, 176.25, 227</td></tr>\n",
       "\t<tr><td>linseed  </td><td>141, 178.00, 221.0, 218.7500, 257.75, 309</td></tr>\n",
       "\t<tr><td>meatmeal </td><td>153, 249.50, 263.0, 276.9091, 320.00, 380</td></tr>\n",
       "\t<tr><td>soybean  </td><td>158, 206.75, 248.0, 246.4286, 270.00, 329</td></tr>\n",
       "\t<tr><td>sunflower</td><td>226, 312.75, 328.0, 328.9167, 340.25, 423</td></tr>\n",
       "</tbody>\n",
       "</table>\n"
      ],
      "text/latex": [
       "A data.frame: 6 × 2\n",
       "\\begin{tabular}{ll}\n",
       " Group.1 & x\\\\\n",
       " <fct> & <dbl{[},6{]}>\\\\\n",
       "\\hline\n",
       "\t casein    & 216, 277.25, 342.0, 323.5833, 370.75, 404\\\\\n",
       "\t horsebean & 108, 137.00, 151.5, 160.2000, 176.25, 227\\\\\n",
       "\t linseed   & 141, 178.00, 221.0, 218.7500, 257.75, 309\\\\\n",
       "\t meatmeal  & 153, 249.50, 263.0, 276.9091, 320.00, 380\\\\\n",
       "\t soybean   & 158, 206.75, 248.0, 246.4286, 270.00, 329\\\\\n",
       "\t sunflower & 226, 312.75, 328.0, 328.9167, 340.25, 423\\\\\n",
       "\\end{tabular}\n"
      ],
      "text/markdown": [
       "\n",
       "A data.frame: 6 × 2\n",
       "\n",
       "| Group.1 &lt;fct&gt; | x &lt;dbl[,6]&gt; |\n",
       "|---|---|\n",
       "| casein    | 216, 277.25, 342.0, 323.5833, 370.75, 404 |\n",
       "| horsebean | 108, 137.00, 151.5, 160.2000, 176.25, 227 |\n",
       "| linseed   | 141, 178.00, 221.0, 218.7500, 257.75, 309 |\n",
       "| meatmeal  | 153, 249.50, 263.0, 276.9091, 320.00, 380 |\n",
       "| soybean   | 158, 206.75, 248.0, 246.4286, 270.00, 329 |\n",
       "| sunflower | 226, 312.75, 328.0, 328.9167, 340.25, 423 |\n",
       "\n"
      ],
      "text/plain": [
       "  Group.1   x                                        \n",
       "1 casein    216, 277.25, 342.0, 323.5833, 370.75, 404\n",
       "2 horsebean 108, 137.00, 151.5, 160.2000, 176.25, 227\n",
       "3 linseed   141, 178.00, 221.0, 218.7500, 257.75, 309\n",
       "4 meatmeal  153, 249.50, 263.0, 276.9091, 320.00, 380\n",
       "5 soybean   158, 206.75, 248.0, 246.4286, 270.00, 329\n",
       "6 sunflower 226, 312.75, 328.0, 328.9167, 340.25, 423"
      ]
     },
     "metadata": {},
     "output_type": "display_data"
    }
   ],
   "source": [
    "# Now input the following code in the next line of your script to generate a list of the 5 figure summaries for the chick weights associated with each feed type:\n",
    "\n",
    "aggregate(weight,list(feed),summary)\n"
   ]
  },
  {
   "cell_type": "code",
   "execution_count": 13,
   "metadata": {},
   "outputs": [
    {
     "data": {
      "text/html": [
       "<table class=\"dataframe\">\n",
       "<caption>A data.frame: 6 × 2</caption>\n",
       "<thead>\n",
       "\t<tr><th scope=col>Group.1</th><th scope=col>x</th></tr>\n",
       "\t<tr><th scope=col>&lt;fct&gt;</th><th scope=col>&lt;dbl&gt;</th></tr>\n",
       "</thead>\n",
       "<tbody>\n",
       "\t<tr><td>casein   </td><td>64.43384</td></tr>\n",
       "\t<tr><td>horsebean</td><td>38.62584</td></tr>\n",
       "\t<tr><td>linseed  </td><td>52.23570</td></tr>\n",
       "\t<tr><td>meatmeal </td><td>64.90062</td></tr>\n",
       "\t<tr><td>soybean  </td><td>54.12907</td></tr>\n",
       "\t<tr><td>sunflower</td><td>48.83638</td></tr>\n",
       "</tbody>\n",
       "</table>\n"
      ],
      "text/latex": [
       "A data.frame: 6 × 2\n",
       "\\begin{tabular}{ll}\n",
       " Group.1 & x\\\\\n",
       " <fct> & <dbl>\\\\\n",
       "\\hline\n",
       "\t casein    & 64.43384\\\\\n",
       "\t horsebean & 38.62584\\\\\n",
       "\t linseed   & 52.23570\\\\\n",
       "\t meatmeal  & 64.90062\\\\\n",
       "\t soybean   & 54.12907\\\\\n",
       "\t sunflower & 48.83638\\\\\n",
       "\\end{tabular}\n"
      ],
      "text/markdown": [
       "\n",
       "A data.frame: 6 × 2\n",
       "\n",
       "| Group.1 &lt;fct&gt; | x &lt;dbl&gt; |\n",
       "|---|---|\n",
       "| casein    | 64.43384 |\n",
       "| horsebean | 38.62584 |\n",
       "| linseed   | 52.23570 |\n",
       "| meatmeal  | 64.90062 |\n",
       "| soybean   | 54.12907 |\n",
       "| sunflower | 48.83638 |\n",
       "\n"
      ],
      "text/plain": [
       "  Group.1   x       \n",
       "1 casein    64.43384\n",
       "2 horsebean 38.62584\n",
       "3 linseed   52.23570\n",
       "4 meatmeal  64.90062\n",
       "5 soybean   54.12907\n",
       "6 sunflower 48.83638"
      ]
     },
     "metadata": {},
     "output_type": "display_data"
    }
   ],
   "source": [
    "# Lastly, input the following code in your script to generate a list of the standard deviations associated with each feed type:\n",
    "aggregate(weight,list(feed),sd)\n",
    "    "
   ]
  },
  {
   "cell_type": "markdown",
   "metadata": {},
   "source": [
    "## Example analysis of this data"
   ]
  },
  {
   "cell_type": "markdown",
   "metadata": {},
   "source": [
    "You can now analyse this dataset from this information, you can see an example below:\n",
    "\n",
    "<b>SAMPLE ANALYSIS</b>\n",
    "\n",
    "➢ Which is the <b>least</b> effective feed? \n",
    "    The least effective seed seems to be horsebean with by far the lowest mean weight for the chicks that are given this type of feed.\n",
    "\n",
    "➢ The most effective feed seems to be sunflower but there are low and high outliers.\n",
    "\n",
    "➢ The protein casein also seems to be effective but has much more varied outcomes.\n",
    "\n",
    "## Add a Markdown cell below and write some notes from your own analysis. "
   ]
  },
  {
   "cell_type": "markdown",
   "metadata": {},
   "source": [
    "# Well done on completing the Python Programming Lab with Noteable! \n",
    "\n",
    "You have now successfully completed the 8 available notebooks as part of this online Programming Lab with Noteable. You can open the first notebook of the programme and tick off all chapters in the list you made. \n",
    "\n",
    "## Where to next? \n",
    "\n",
    "Have a look at the other resources available in the EDINA GitHub repository: https://github.com/edina \n",
    "\n",
    "You can try building your own notebooks in Noteable until the Winter Break, and access online resources in the first notebook of the Python Lab. Happy coding! \n",
    "\n",
    "<b>PS: If you think Noteable could be a good addition to your class, you can let your course supervisor know that it is a free tool provided by EDINA for all University of Edinburgh members. You can also let us know about your course by submitting a contact form in our website at noteable.edina.ac.uk</b>"
   ]
  },
  {
   "cell_type": "markdown",
   "metadata": {},
   "source": [
    "[![CC BY 4.0][cc-by-shield]][cc-by] \n",
    "\n",
    "This work is licensed under a \n",
    "\n",
    "[Creative Commons Attribution 4.0 International License][cc-by]. \n",
    "\n",
    "[![CC BY 4.0][cc-by-image]][cc-by] \n",
    "\n",
    "To view a copy of this license, visit http://creativecommons.org/licenses/by/4.0/ or send a letter to Creative Commons, PO Box 1866, Mountain View, CA 94042, USA. \n",
    "\n",
    "[cc-by]: http://creativecommons.org/licenses/by/4.0/ \n",
    "\n",
    "[cc-by-image]: https://i.creativecommons.org/l/by/4.0/88x31.png \n",
    "\n",
    "[cc-by-shield]: https://img.shields.io/badge/License-CC%20BY%204.0-lightgrey.svg "
   ]
  },
  {
   "cell_type": "code",
   "execution_count": null,
   "metadata": {},
   "outputs": [],
   "source": []
  }
 ],
 "metadata": {
  "kernelspec": {
   "display_name": "R with Stan",
   "language": "R",
   "name": "ir"
  },
  "language_info": {
   "codemirror_mode": "r",
   "file_extension": ".r",
   "mimetype": "text/x-r-source",
   "name": "R",
   "pygments_lexer": "r",
   "version": "4.0.5"
  }
 },
 "nbformat": 4,
 "nbformat_minor": 2
}
